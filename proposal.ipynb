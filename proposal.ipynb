{
 "cells": [
  {
   "cell_type": "code",
   "execution_count": 1,
   "metadata": {
    "collapsed": true,
    "ExecuteTime": {
     "end_time": "2023-06-10T14:54:45.734429900Z",
     "start_time": "2023-06-10T14:54:44.853387100Z"
    }
   },
   "outputs": [
    {
     "data": {
      "text/plain": "         user_id   auction_id  category_2  category_1  buy_mount       day\n0      786295544  41098319944    50014866    50022520          2  20140919\n1      532110457  17916191097    50011993          28          1  20131011\n2      249013725  21896936223    50012461    50014815          1  20131011\n3      917056007  12515996043    50018831    50014815          2  20141023\n4      444069173  20487688075    50013636    50008168          1  20141103\n...          ...          ...         ...         ...        ...       ...\n29966   57747284  35169635909    50010549    50008168          1  20140109\n29967  287541325  19778523000    50007011    50008168          2  20140109\n29968   82915321  12766532512    50011993          28          1  20131008\n29969   78259523  18309305134    50013711    50008168          1  20131008\n29970  758305789  20177445814    50018860          28          1  20131008\n\n[29971 rows x 6 columns]",
      "text/html": "<div>\n<style scoped>\n    .dataframe tbody tr th:only-of-type {\n        vertical-align: middle;\n    }\n\n    .dataframe tbody tr th {\n        vertical-align: top;\n    }\n\n    .dataframe thead th {\n        text-align: right;\n    }\n</style>\n<table border=\"1\" class=\"dataframe\">\n  <thead>\n    <tr style=\"text-align: right;\">\n      <th></th>\n      <th>user_id</th>\n      <th>auction_id</th>\n      <th>category_2</th>\n      <th>category_1</th>\n      <th>buy_mount</th>\n      <th>day</th>\n    </tr>\n  </thead>\n  <tbody>\n    <tr>\n      <th>0</th>\n      <td>786295544</td>\n      <td>41098319944</td>\n      <td>50014866</td>\n      <td>50022520</td>\n      <td>2</td>\n      <td>20140919</td>\n    </tr>\n    <tr>\n      <th>1</th>\n      <td>532110457</td>\n      <td>17916191097</td>\n      <td>50011993</td>\n      <td>28</td>\n      <td>1</td>\n      <td>20131011</td>\n    </tr>\n    <tr>\n      <th>2</th>\n      <td>249013725</td>\n      <td>21896936223</td>\n      <td>50012461</td>\n      <td>50014815</td>\n      <td>1</td>\n      <td>20131011</td>\n    </tr>\n    <tr>\n      <th>3</th>\n      <td>917056007</td>\n      <td>12515996043</td>\n      <td>50018831</td>\n      <td>50014815</td>\n      <td>2</td>\n      <td>20141023</td>\n    </tr>\n    <tr>\n      <th>4</th>\n      <td>444069173</td>\n      <td>20487688075</td>\n      <td>50013636</td>\n      <td>50008168</td>\n      <td>1</td>\n      <td>20141103</td>\n    </tr>\n    <tr>\n      <th>...</th>\n      <td>...</td>\n      <td>...</td>\n      <td>...</td>\n      <td>...</td>\n      <td>...</td>\n      <td>...</td>\n    </tr>\n    <tr>\n      <th>29966</th>\n      <td>57747284</td>\n      <td>35169635909</td>\n      <td>50010549</td>\n      <td>50008168</td>\n      <td>1</td>\n      <td>20140109</td>\n    </tr>\n    <tr>\n      <th>29967</th>\n      <td>287541325</td>\n      <td>19778523000</td>\n      <td>50007011</td>\n      <td>50008168</td>\n      <td>2</td>\n      <td>20140109</td>\n    </tr>\n    <tr>\n      <th>29968</th>\n      <td>82915321</td>\n      <td>12766532512</td>\n      <td>50011993</td>\n      <td>28</td>\n      <td>1</td>\n      <td>20131008</td>\n    </tr>\n    <tr>\n      <th>29969</th>\n      <td>78259523</td>\n      <td>18309305134</td>\n      <td>50013711</td>\n      <td>50008168</td>\n      <td>1</td>\n      <td>20131008</td>\n    </tr>\n    <tr>\n      <th>29970</th>\n      <td>758305789</td>\n      <td>20177445814</td>\n      <td>50018860</td>\n      <td>28</td>\n      <td>1</td>\n      <td>20131008</td>\n    </tr>\n  </tbody>\n</table>\n<p>29971 rows × 6 columns</p>\n</div>"
     },
     "execution_count": 1,
     "metadata": {},
     "output_type": "execute_result"
    }
   ],
   "source": [
    "import numpy as np\n",
    "import pandas as pd\n",
    "\n",
    "data0 = pd.read_csv('tianchi_mum_baby_trade_history.csv')\n",
    "data0"
   ]
  },
  {
   "cell_type": "code",
   "execution_count": 2,
   "outputs": [
    {
     "data": {
      "text/plain": "        user_id  birthday  gender\n0          2757  20130311       1\n1        415971  20121111       0\n2       1372572  20120130       1\n3      10339332  20110910       0\n4      10642245  20130213       0\n..          ...       ...     ...\n948  2020957900  20140430       0\n949  2080304899  20100713       0\n950  2114469016  20140416       0\n951  2186831536  20140519       1\n952  2254611367  20111031       0\n\n[953 rows x 3 columns]",
      "text/html": "<div>\n<style scoped>\n    .dataframe tbody tr th:only-of-type {\n        vertical-align: middle;\n    }\n\n    .dataframe tbody tr th {\n        vertical-align: top;\n    }\n\n    .dataframe thead th {\n        text-align: right;\n    }\n</style>\n<table border=\"1\" class=\"dataframe\">\n  <thead>\n    <tr style=\"text-align: right;\">\n      <th></th>\n      <th>user_id</th>\n      <th>birthday</th>\n      <th>gender</th>\n    </tr>\n  </thead>\n  <tbody>\n    <tr>\n      <th>0</th>\n      <td>2757</td>\n      <td>20130311</td>\n      <td>1</td>\n    </tr>\n    <tr>\n      <th>1</th>\n      <td>415971</td>\n      <td>20121111</td>\n      <td>0</td>\n    </tr>\n    <tr>\n      <th>2</th>\n      <td>1372572</td>\n      <td>20120130</td>\n      <td>1</td>\n    </tr>\n    <tr>\n      <th>3</th>\n      <td>10339332</td>\n      <td>20110910</td>\n      <td>0</td>\n    </tr>\n    <tr>\n      <th>4</th>\n      <td>10642245</td>\n      <td>20130213</td>\n      <td>0</td>\n    </tr>\n    <tr>\n      <th>...</th>\n      <td>...</td>\n      <td>...</td>\n      <td>...</td>\n    </tr>\n    <tr>\n      <th>948</th>\n      <td>2020957900</td>\n      <td>20140430</td>\n      <td>0</td>\n    </tr>\n    <tr>\n      <th>949</th>\n      <td>2080304899</td>\n      <td>20100713</td>\n      <td>0</td>\n    </tr>\n    <tr>\n      <th>950</th>\n      <td>2114469016</td>\n      <td>20140416</td>\n      <td>0</td>\n    </tr>\n    <tr>\n      <th>951</th>\n      <td>2186831536</td>\n      <td>20140519</td>\n      <td>1</td>\n    </tr>\n    <tr>\n      <th>952</th>\n      <td>2254611367</td>\n      <td>20111031</td>\n      <td>0</td>\n    </tr>\n  </tbody>\n</table>\n<p>953 rows × 3 columns</p>\n</div>"
     },
     "execution_count": 2,
     "metadata": {},
     "output_type": "execute_result"
    }
   ],
   "source": [
    "data1 = pd.read_csv('tianchi_mum_baby.csv')\n",
    "data1"
   ],
   "metadata": {
    "collapsed": false,
    "ExecuteTime": {
     "end_time": "2023-06-10T14:55:22.004030300Z",
     "start_time": "2023-06-10T14:55:21.933975300Z"
    }
   }
  },
  {
   "cell_type": "code",
   "execution_count": null,
   "outputs": [],
   "source": [],
   "metadata": {
    "collapsed": false
   }
  }
 ],
 "metadata": {
  "kernelspec": {
   "display_name": "Python 3",
   "language": "python",
   "name": "python3"
  },
  "language_info": {
   "codemirror_mode": {
    "name": "ipython",
    "version": 2
   },
   "file_extension": ".py",
   "mimetype": "text/x-python",
   "name": "python",
   "nbconvert_exporter": "python",
   "pygments_lexer": "ipython2",
   "version": "2.7.6"
  }
 },
 "nbformat": 4,
 "nbformat_minor": 0
}
